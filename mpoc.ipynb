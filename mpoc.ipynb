{
 "cells": [
  {
   "cell_type": "markdown",
   "id": "5286928b-d617-45f7-b003-83cfbe472494",
   "metadata": {},
   "source": [
    "# Install Python Packages"
   ]
  },
  {
   "cell_type": "code",
   "execution_count": 31,
   "id": "724398da-7855-46d9-aee7-0ad4601d16d6",
   "metadata": {},
   "outputs": [],
   "source": [
    "%%capture --no-stderr\n",
    "%pip install --quiet -U langgraph langchain-core langchain_openai python-dotenv langsmith"
   ]
  },
  {
   "cell_type": "code",
   "execution_count": 32,
   "id": "ef8692b8-ae84-4651-8c80-a159578e1fc6",
   "metadata": {},
   "outputs": [
    {
     "name": "stdout",
     "output_type": "stream",
     "text": [
      "Note: you may need to restart the kernel to use updated packages.\n"
     ]
    }
   ],
   "source": [
    "%pip install --quiet -U pydantic"
   ]
  },
  {
   "cell_type": "code",
   "execution_count": 33,
   "id": "a890802e-53cf-4714-9f60-7fcc47e2ac92",
   "metadata": {},
   "outputs": [
    {
     "name": "stdout",
     "output_type": "stream",
     "text": [
      "Note: you may need to restart the kernel to use updated packages.\n",
      "Note: you may need to restart the kernel to use updated packages.\n"
     ]
    }
   ],
   "source": [
    "%pip install --quiet -U jupyterlab-lsp\n",
    "%pip install --quiet -U \"python-lsp-server[all]\""
   ]
  },
  {
   "cell_type": "markdown",
   "id": "fbc92ad8-c9d5-423b-9597-ee2c5015ae94",
   "metadata": {},
   "source": [
    "# Check Environment Dependencies"
   ]
  },
  {
   "cell_type": "code",
   "execution_count": 34,
   "id": "0741839c-b93a-4181-b939-3f335f07718e",
   "metadata": {},
   "outputs": [
    {
     "name": "stdout",
     "output_type": "stream",
     "text": [
      "c:\\Program Files\\Python312\\python.exe\n"
     ]
    }
   ],
   "source": [
    "import sys\n",
    "print(sys.executable)\n",
    "#!pip list"
   ]
  },
  {
   "cell_type": "markdown",
   "id": "57666c82-ef72-42d0-a007-1d9edf659ea2",
   "metadata": {},
   "source": [
    "## Setup logging"
   ]
  },
  {
   "cell_type": "code",
   "execution_count": 35,
   "id": "e7f96914-f260-47e2-b24a-2db71b2b3b67",
   "metadata": {},
   "outputs": [],
   "source": [
    "import logging\n",
    "\n",
    "logger = logging.getLogger(__name__)\n",
    "\n",
    "# Configure logging\n",
    "logging.basicConfig(\n",
    "    level=logging.INFO,\n",
    "    format='%(asctime)s - %(levelname)s - %(message)s',  # Define the format\n",
    "    handlers=[logging.StreamHandler()]  # Output to the console\n",
    ")\n"
   ]
  },
  {
   "cell_type": "markdown",
   "id": "c42e6a21-c8d3-45fa-840c-87abc2ac2c10",
   "metadata": {},
   "source": [
    "# Setup OpenAI"
   ]
  },
  {
   "cell_type": "code",
   "execution_count": 36,
   "id": "876934e3-a5d8-4fc8-a4d0-82fff37418f6",
   "metadata": {},
   "outputs": [],
   "source": [
    "from openai_config import OpenAIConfig"
   ]
  },
  {
   "cell_type": "code",
   "execution_count": 37,
   "id": "f8b3df41-601b-4f42-8219-cf3dc4436e97",
   "metadata": {
    "editable": true,
    "slideshow": {
     "slide_type": ""
    },
    "tags": []
   },
   "outputs": [
    {
     "name": "stderr",
     "output_type": "stream",
     "text": [
      "2024-09-10 18:52:46,034 - INFO - HTTP Request: POST https://api.openai.com/v1/chat/completions \"HTTP/1.1 200 OK\"\n"
     ]
    },
    {
     "data": {
      "text/plain": [
       "AIMessage(content='Why did the employee bring a ladder to work?\\n\\nBecause they heard the job had great \"upward mobility\"!', additional_kwargs={'refusal': None}, response_metadata={'token_usage': {'completion_tokens': 22, 'prompt_tokens': 14, 'total_tokens': 36}, 'model_name': 'gpt-4o-mini-2024-07-18', 'system_fingerprint': 'fp_483d39d857', 'finish_reason': 'stop', 'logprobs': None}, id='run-6cb597d6-66c3-4ef4-9665-e10fc92ab91d-0', usage_metadata={'input_tokens': 14, 'output_tokens': 22, 'total_tokens': 36})"
      ]
     },
     "execution_count": 37,
     "metadata": {},
     "output_type": "execute_result"
    }
   ],
   "source": [
    "# We read the .env file inside the class\n",
    "openai_config = OpenAIConfig()\n",
    "openai_config.chat_model.invoke(\"Tell me a Joke about corporate life\")"
   ]
  },
  {
   "cell_type": "code",
   "execution_count": 38,
   "id": "9ef18fdc-62d6-44ce-a1c2-52c825d806b3",
   "metadata": {},
   "outputs": [
    {
     "name": "stderr",
     "output_type": "stream",
     "text": [
      "2024-09-10 18:52:46,042 - INFO - builder\n"
     ]
    }
   ],
   "source": [
    "import os\n",
    "logger.debug(os.getenv('OPENAI_API_KEY'))\n",
    "logger.info(os.getenv('LANGCHAIN_PROJECT'))"
   ]
  },
  {
   "cell_type": "markdown",
   "id": "309dedce-03d6-40e1-9695-915183084df8",
   "metadata": {
    "jp-MarkdownHeadingCollapsed": true
   },
   "source": [
    "# High Level Plan"
   ]
  },
  {
   "cell_type": "code",
   "execution_count": 39,
   "id": "97fd3e01-bb79-4936-acd1-7fe38b7b43fa",
   "metadata": {},
   "outputs": [],
   "source": [
    "high_level_query = \"\"\"You are a DevSecOs expert. You are thorough and leave nothing to chance. \n",
    "\n",
    "Create an end to end plan to debug Kubernetes DevOps Incidents on a  \n",
    "environment with multiple clusters and namespaces. The plan must follows established \n",
    "DevSecOps best practices.  \n",
    "\n",
    "The plan should be generic and not point to any specific issue.\n",
    "\n",
    "The incident starts with a notification in a Slack room with the PagerDuty incident ID\n",
    "\n",
    "Use the following methodology to create the plan. These steps can be repeated any number of times. \n",
    "\n",
    "strings between brackets are placeholders that you must fill in as you create the tasks and plan: \n",
    "\n",
    "\n",
    "Thought: To solve this problem, I need to break it down into smaller, more manageable steps. I will think through the key components of the task.\n",
    "Action: Identify the main goals and subgoals required to complete the task.\n",
    "Observation: The key goals are [list high-level goals]. To achieve these, I will need to complete the following tasks: [list tasks].\n",
    "Thought: Now that I have a plan and a list of the task, I will start working through the steps systematically.\n",
    "Action: Begin executing the first task by [describe first action].\n",
    "Observation: Completing the first task revealed that [describe observation]. I will need to adjust my approach slightly.\n",
    "Thought: Based on the results so far, I should modify my plan to be more effective. I will re-evaluate the next steps.\n",
    "Action: Revise the plan by [describe revised action].\n",
    "Observation: The revised approach is working better because [describe positive outcome]. I'm making good progress towards the overall goal.\n",
    "Thought: I believe I now have enough information to provide a final solution to the original problem.\n",
    "Action: Summarize the key steps taken and provide the final solution.\n",
    "Observation: The solution is: [provide final solution with all necessary details for each step].\n",
    "\n",
    "\"\"\""
   ]
  },
  {
   "cell_type": "code",
   "execution_count": 40,
   "id": "cbcfbd56-9763-4f65-941f-42d42d5e5bbf",
   "metadata": {},
   "outputs": [
    {
     "name": "stderr",
     "output_type": "stream",
     "text": [
      "2024-09-10 18:52:53,538 - INFO - HTTP Request: POST https://api.openai.com/v1/chat/completions \"HTTP/1.1 200 OK\"\n"
     ]
    }
   ],
   "source": [
    "high_level_response = openai_config.chat_model.invoke(high_level_query)"
   ]
  },
  {
   "cell_type": "code",
   "execution_count": 41,
   "id": "288c99e5-0bde-4334-81d4-1002c392c590",
   "metadata": {},
   "outputs": [],
   "source": [
    "json_string = high_level_response.content.strip('```json\\n').strip('```')"
   ]
  },
  {
   "cell_type": "code",
   "execution_count": 42,
   "id": "a80f7e5d-dac3-4bd2-9ce1-462bb4e974d9",
   "metadata": {},
   "outputs": [
    {
     "name": "stdout",
     "output_type": "stream",
     "text": [
      "### End-to-End Plan for Debugging Kubernetes DevOps Incidents\n",
      "\n",
      "#### Initial Notification\n",
      "- **Incident Trigger**: Notification in Slack with PagerDuty incident ID.\n",
      "\n",
      "---\n",
      "\n",
      "### Step 1: Thought\n",
      "To solve this problem, I need to break it down into smaller, more manageable steps. I will think through the key components of the task.\n",
      "\n",
      "### Step 2: Action\n",
      "Identify the main goals and subgoals required to complete the task.\n",
      "\n",
      "#### Main Goals:\n",
      "1. **Acknowledge the Incident**: Ensure the incident is recognized and assigned.\n",
      "2. **Gather Context**: Collect relevant information about the incident.\n",
      "3. **Diagnose the Issue**: Identify the root cause of the incident.\n",
      "4. **Implement a Fix**: Apply a solution to resolve the incident.\n",
      "5. **Verify Resolution**: Confirm that the issue is resolved and services are functioning as expected.\n",
      "6. **Document the Incident**: Record the incident details and resolution steps for future reference.\n",
      "7. **Conduct a Post-Mortem**: Analyze the incident to improve future responses.\n",
      "\n",
      "#### Subgoals:\n",
      "- Communicate with the team.\n",
      "- Access relevant logs and metrics.\n",
      "- Review configurations and deployments.\n",
      "- Collaborate with other teams if necessary.\n",
      "\n",
      "### Step 3: Observation\n",
      "The key goals are:\n",
      "- Acknowledge the incident.\n",
      "- Gather context.\n",
      "- Diagnose the issue.\n",
      "- Implement a fix.\n",
      "- Verify resolution.\n",
      "- Document the incident.\n",
      "- Conduct a post-mortem.\n",
      "\n",
      "To achieve these, I will need to complete the following tasks:\n",
      "1. Acknowledge the incident in PagerDuty.\n",
      "2. Gather logs from affected clusters and namespaces.\n",
      "3. Review monitoring dashboards for anomalies.\n",
      "4. Check recent changes in configurations or deployments.\n",
      "5. Collaborate with team members for insights.\n",
      "6. Apply a fix based on findings.\n",
      "7. Validate the fix through testing.\n",
      "8. Document the incident and resolution steps.\n",
      "9. Schedule a post-mortem meeting.\n",
      "\n",
      "### Step 4: Thought\n",
      "Now that I have a plan and a list of tasks, I will start working through the steps systematically.\n",
      "\n",
      "### Step 5: Action\n",
      "Begin executing the first task by acknowledging the incident in PagerDuty.\n",
      "\n",
      "### Step 6: Observation\n",
      "Completing the first task revealed that the incident was escalated to the on-call engineer, and they are now aware of the situation. I will need to adjust my approach slightly to ensure effective communication.\n",
      "\n",
      "### Step 7: Thought\n",
      "Based on the results so far, I should modify my plan to be more effective. I will re-evaluate the next steps.\n",
      "\n",
      "### Step 8: Action\n",
      "Revise the plan by ensuring that all team members are informed via Slack and that a dedicated channel is created for incident updates.\n",
      "\n",
      "### Step 9: Observation\n",
      "The revised approach is working better because team members are actively contributing information and insights, which is speeding up the diagnosis process. I'm making good progress towards the overall goal.\n",
      "\n",
      "### Step 10: Thought\n",
      "I believe I now have enough information to provide a final solution to the original problem.\n",
      "\n",
      "### Step 11: Action\n",
      "Summarize the key steps taken and provide the final solution.\n",
      "\n",
      "### Step 12: Observation\n",
      "The solution is:\n",
      "1. **Acknowledge the Incident**: Confirmed in PagerDuty and notified the team via Slack.\n",
      "2. **Gather Context**: Collected logs from affected clusters and namespaces using `kubectl logs` and monitoring tools like Prometheus and Grafana.\n",
      "3. **Diagnose the Issue**: Analyzed logs and metrics to identify a misconfigured deployment.\n",
      "4. **Implement a Fix**: Corrected the deployment configuration and redeployed the affected services.\n",
      "5. **Verify Resolution**: Monitored the services to ensure they are functioning correctly and confirmed with the team.\n",
      "6. **Document the Incident**: Recorded all actions taken, findings, and resolutions in the incident management system.\n",
      "7. **Conduct a Post-Mortem**: Scheduled a meeting to discuss the incident, its impact, and preventive measures for the future.\n",
      "\n",
      "This structured approach ensures that all aspects of the incident are addressed, promoting a culture of continuous improvement and resilience in the DevSecOps environment.\n"
     ]
    }
   ],
   "source": [
    "print(json_string)"
   ]
  },
  {
   "cell_type": "markdown",
   "id": "bb69f326-ff3d-4b18-9cab-6662f2f51d3f",
   "metadata": {},
   "source": [
    "# Structured Output Plan\n",
    "\n",
    "## References\n",
    "\n",
    "https://api.python.langchain.com/en/latest/chat_models/langchain_openai.chat_models.base.ChatOpenAI.html#langchain_openai.chat_models.base.ChatOpenAI.with_structured_output"
   ]
  },
  {
   "cell_type": "markdown",
   "id": "d8ffb7e1-dbe0-46d4-aed7-3cb4546d7624",
   "metadata": {},
   "source": [
    "## Define Schemas"
   ]
  },
  {
   "cell_type": "markdown",
   "id": "036fb70b-3b89-4aa5-8625-40599d31c567",
   "metadata": {},
   "source": [
    "### Tool Schema"
   ]
  },
  {
   "cell_type": "code",
   "execution_count": 43,
   "id": "4292340b-4c05-43a0-90d3-d28b35153801",
   "metadata": {},
   "outputs": [],
   "source": [
    "from pydantic import BaseModel, Field\n",
    "from typing import List, Union\n",
    "\n",
    "class Tool(BaseModel):\n",
    "    \"\"\"\n",
    "    The `Tool` class represents a tool used in DevOps tasks. Each tool should include relevant details that define how it is used within a task.\n",
    "\n",
    "    Key Points:\n",
    "    - **Name**: The name of the tool as known in the DevOps industry.\n",
    "    - **Description**: A clear, human-readable description of the tool, outlining its purpose and functionality.\n",
    "    - **Command**: A function call or a complete Unix command with relevant options should always be provided. This is crucial for tools that access on-prem resources or interact with external services via REST/cURL. For example, 'kubectl get pods --namespace default' should be provided for `kubectl`, even if it interacts with external resources.\n",
    "    - **URL**: An optional URL where more information about the tool can be found. This is useful for users who need additional details or documentation.\n",
    "\n",
    "    **Examples of Proper Usage:**\n",
    "    - **`kubectl`**: Command might be 'kubectl get pods --namespace default'.\n",
    "    - **`curl`**: Command might be 'curl -X GET https://api.example.com/resource'.\n",
    "\n",
    "    **Examples of What Should Not Be Included:**\n",
    "    - Omitting the command for a tool (e.g., only providing 'kubectl' without any command).\n",
    "    - Providing incomplete or vague commands that do not specify how to use the tool (e.g., 'curl' without specifying the URL or method).\n",
    "\n",
    "    Attributes:\n",
    "    - `name` (str): The name known in the DevOps industry, e.g., 'kubectl'.\n",
    "    - `description` (str): A human-like description of the tool, e.g., 'A command-line tool for controlling Kubernetes clusters.'\n",
    "    - `command` (Union[str, None]): A function call or a complete Unix command with relevant options should always be provided. This is crucial for tools that access on-prem resources or interact with external services via REST/cURL. For example, 'kubectl get pods --namespace default' should be provided for `kubectl`, even if it interacts with external resources.\n",
    "    - `url` (str, Optional): URL for more information about the tool, e.g., 'https://kubernetes.io/docs/reference/kubectl/'. Optional but recommended for additional context.\n",
    "\n",
    "    \"\"\"\n",
    "\n",
    "    name: str = Field(..., description=\"The name known in the DevOps industry, e.g., 'kubectl'\")\n",
    "    description: str = Field(..., description=\"A human-like description of the tool, e.g., 'A command-line tool for controlling Kubernetes clusters.'\")\n",
    "    command: Union[str, None] = Field(None, description=\"A function call or a complete Unix command with relevant options should always be provided. This is crucial for tools that access on-prem resources or interact with external services via REST/cURL. For example, 'kubectl get pods --namespace default' should be provided for `kubectl`, even if it interacts with external resources.\")\n",
    "    url: str = Field(None, description=\"URL for more information about the tool, e.g., 'https://kubernetes.io/docs/reference/kubectl/'\")\n",
    "\n",
    "    class Config:\n",
    "        \"\"\"Configuration for the Tool model.\"\"\"\n",
    "        json_schema_extra = {\n",
    "            \"description\": \"The `Tool` class represents a tool used in DevOps tasks.\"\n",
    "            # Removed 'examples' as it is now handled at the field level\n",
    "        }"
   ]
  },
  {
   "cell_type": "markdown",
   "id": "5a51695e-9228-43d0-a18f-56406907a1ef",
   "metadata": {},
   "source": [
    "### Task Schema"
   ]
  },
  {
   "cell_type": "code",
   "execution_count": 44,
   "id": "fc70ab6b-3dfe-4d35-9240-5b7b134355f9",
   "metadata": {},
   "outputs": [],
   "source": [
    "class Task(BaseModel):\n",
    "    \"\"\"\n",
    "    The `Task` class represents an atomic unit of work within a plan. Each task must be focused on a single, clear objective and should not encompass multiple, unrelated activities.\n",
    "\n",
    "    Key Points:\n",
    "    - A task should perform one specific function and should not combine different activities. \n",
    "    - Each task should have a clear, verifiable success criterion that is achievable through the task's activities alone.\n",
    "    - Tasks must be URL-friendly, without spaces or special characters in their names.\n",
    "    \n",
    "    **Examples of What a Task Should NOT Do:**\n",
    "    - \"Acknowledge the incident in PagerDuty and notify the team in the Slack room.\" (This task mixes incident management with team communication.)\n",
    "    - \"Update the application code and deploy it to production.\" (This task combines code changes with deployment, which should be separated.)\n",
    "    - \"Collect all relevant information about the incident from Slack and PagerDuty\" (This task has two action items)\n",
    "\n",
    "    Attributes:\n",
    "    - `name` (str): URL-friendly name for the task, e.g., 'deploy-application'. Must not contain spaces or special characters.\n",
    "    - `description` (str): A detailed description of the task, e.g., 'Deploy the application to the Kubernetes cluster using Helm.'\n",
    "    - `success_criteria` (str): Clear and verifiable criteria for task completion, e.g., 'Application is successfully deployed and running in the Kubernetes cluster, as verified by checking the deployment status with 'kubectl get deployments'.' Each task must be atomic and focus on one thing only.\n",
    "    - `tools` (List[Tool]): List of `Tool` instances required for the task, specifying which tools are needed.\n",
    "\n",
    "    \"\"\"    \n",
    "    name: str = Field(..., description=\"URL-friendly name for the task, e.g., 'deploy-application'. Must not contain spaces or special characters.\")\n",
    "    description: str = Field(..., description=\"A detailed description of the task, e.g., 'Deploy the application to the Kubernetes cluster using Helm.'\")\n",
    "    success_criteria: str = Field(..., description=\"Clear and verifiable criteria for task completion, e.g., 'Application is successfully deployed and running in the Kubernetes cluster, as verified by checking the deployment status with 'kubectl get deployments'.' Each task must be atomic and focus on one thing only.\")\n",
    "    tools: List[Tool] = Field(..., description=\"List of `Tool` instances required for the task, specifying which tools are needed.\")\n",
    "\n",
    "    class Config:\n",
    "        \"\"\"Configuration for the Task model.\"\"\"\n",
    "        json_schema_extra = {\n",
    "            \"description\": \"The `Task` class represents an atomic unit of work that involves using specific tools to achieve a clear goal.\"\n",
    "            # Removed 'examples' as it is now handled at the field level\n",
    "        }"
   ]
  },
  {
   "cell_type": "markdown",
   "id": "f6d6ea2f-6e36-46f2-8377-54791ff5f397",
   "metadata": {},
   "source": [
    "### Plan Schema"
   ]
  },
  {
   "cell_type": "code",
   "execution_count": 45,
   "id": "3774a2eb-8523-41de-ad77-6544c0427f43",
   "metadata": {},
   "outputs": [],
   "source": [
    "from langchain_core.messages import BaseMessage\n",
    "\n",
    "\n",
    "class Plan(BaseModel):\n",
    "    tasks: List['Task'] = Field(\n",
    "        ..., \n",
    "        description=(\n",
    "            \"A list of `Task` instances that constitute the plan. Each task must be atomic, \"\n",
    "            \"focused on a specific goal, and the entire plan must be complete, verifiable, \"\n",
    "            \"and reproducible. It should follow DevOps best practices to resolve incidents \" \n",
    "            \"to ensure that the plan is executed consistently and reliably across different \"\n",
    "            \"environments.\"\n",
    "        )\n",
    "    )\n",
    "    Reasoning: str = Field(\n",
    "        ..., \n",
    "        description=(\n",
    "            \"OpenAI should capture here the entire reasoning sequence used to create \"\n",
    "            \" the plan\"\n",
    "        )\n",
    "    )\n"
   ]
  },
  {
   "cell_type": "markdown",
   "id": "80834639-63ca-4e01-bd19-83874fc0ce16",
   "metadata": {},
   "source": [
    "## Invoke LLM\n",
    "\n",
    "This forces the LLM to use JSON response based on the given schema"
   ]
  },
  {
   "cell_type": "code",
   "execution_count": 46,
   "id": "5eab6ac3-a606-4268-b650-d4a4093622d7",
   "metadata": {},
   "outputs": [],
   "source": [
    "structured_system_query = \"\"\"You are a DevSecOs expert. You are thorough and leave nothing to chance.  \n",
    "\"\"\""
   ]
  },
  {
   "cell_type": "code",
   "execution_count": 47,
   "id": "6dc1e769-7988-4dc0-b0b7-864274c22b39",
   "metadata": {},
   "outputs": [],
   "source": [
    "structured_user_query = \"\"\"\n",
    "Create an end to end plan to debug Kubernetes DevOps Incidents on a  \n",
    "environment with multiple clusters and namespaces. The plan must follows established \n",
    "DevSecOps best practices.  \n",
    "\n",
    "The incident starts with a notification in a Slack room with the PagerDuty incident ID \n",
    "\"\"\""
   ]
  },
  {
   "cell_type": "code",
   "execution_count": 48,
   "id": "27683e46-7e3f-406d-ac5c-6cfd727987de",
   "metadata": {},
   "outputs": [],
   "source": [
    "from langchain_core.prompts import ChatPromptTemplate\n",
    "\n",
    "structured_template = ChatPromptTemplate.from_messages([\n",
    "    (\"system\", \"{system_prompt}\"),\n",
    "    (\"user\", \"{input}\")\n",
    "])\n",
    "structured_prompt = structured_template.invoke({\"system_prompt\": structured_system_query, \"input\": structured_user_query})"
   ]
  },
  {
   "cell_type": "code",
   "execution_count": 49,
   "id": "6ecae560-00d6-47ed-9af7-2b78ecba0c30",
   "metadata": {},
   "outputs": [],
   "source": [
    "structured_llm = openai_config.chat_model.with_structured_output(Plan, method=\"json_schema\")"
   ]
  },
  {
   "cell_type": "code",
   "execution_count": 50,
   "id": "7ea390fd-c21f-4e81-b632-dc81b8e50868",
   "metadata": {},
   "outputs": [
    {
     "name": "stderr",
     "output_type": "stream",
     "text": [
      "2024-09-10 18:53:11,599 - INFO - HTTP Request: POST https://api.openai.com/v1/chat/completions \"HTTP/1.1 200 OK\"\n"
     ]
    }
   ],
   "source": [
    "structured_plan_response = structured_llm.invoke(structured_prompt)"
   ]
  },
  {
   "cell_type": "code",
   "execution_count": 53,
   "id": "d2eea3e8-e6f3-4fd3-9c73-63f669adb143",
   "metadata": {},
   "outputs": [
    {
     "name": "stdout",
     "output_type": "stream",
     "text": [
      "{\n",
      "    \"tasks\": [\n",
      "        {\n",
      "            \"name\": \"acknowledge-incident\",\n",
      "            \"description\": \"Acknowledge the incident in PagerDuty to prevent further notifications and inform the team that the issue is being addressed.\",\n",
      "            \"success_criteria\": \"Incident is acknowledged in PagerDuty, and team members are notified in Slack that the incident is being handled.\",\n",
      "            \"tools\": [\n",
      "                {\n",
      "                    \"name\": \"PagerDuty\",\n",
      "                    \"description\": \"An incident management tool that helps teams respond to incidents quickly.\",\n",
      "                    \"command\": \"curl -X POST 'https://api.pagerduty.com/incidents/{incident_id}/acknowledge' -H 'Authorization: Token token={your_api_token}' -H 'Content-Type: application/json' -d '{\\\"incident\\\": {\\\"type\\\": \\\"incident_reference\\\"}}'\",\n",
      "                    \"url\": \"https://support.pagerduty.com/docs/api-docs\"\n",
      "                }\n",
      "            ]\n",
      "        },\n",
      "        {\n",
      "            \"name\": \"gather-incident-details\",\n",
      "            \"description\": \"Collect all relevant details about the incident from Slack and PagerDuty, including the incident ID, affected services, and any error messages.\",\n",
      "            \"success_criteria\": \"All relevant incident details are collected and documented for further analysis.\",\n",
      "            \"tools\": [\n",
      "                {\n",
      "                    \"name\": \"Slack\",\n",
      "                    \"description\": \"A messaging platform for team communication.\",\n",
      "                    \"command\": \"N/A\",\n",
      "                    \"url\": \"https://slack.com/\"\n",
      "                }\n",
      "            ]\n",
      "        },\n",
      "        {\n",
      "            \"name\": \"check-cluster-status\",\n",
      "            \"description\": \"Check the status of all Kubernetes clusters to identify any that are down or experiencing issues.\",\n",
      "            \"success_criteria\": \"All clusters are checked, and their statuses are documented, identifying any clusters that are down or degraded.\",\n",
      "            \"tools\": [\n",
      "                {\n",
      "                    \"name\": \"kubectl\",\n",
      "                    \"description\": \"A command-line tool for controlling Kubernetes clusters.\",\n",
      "                    \"command\": \"kubectl get nodes --all-namespaces\",\n",
      "                    \"url\": \"https://kubernetes.io/docs/reference/kubectl/\"\n",
      "                }\n",
      "            ]\n",
      "        },\n",
      "        {\n",
      "            \"name\": \"check-namespace-status\",\n",
      "            \"description\": \"For the affected clusters, check the status of all namespaces to identify any that are experiencing issues.\",\n",
      "            \"success_criteria\": \"All namespaces in the affected clusters are checked, and their statuses are documented, identifying any namespaces that are down or degraded.\",\n",
      "            \"tools\": [\n",
      "                {\n",
      "                    \"name\": \"kubectl\",\n",
      "                    \"description\": \"A command-line tool for controlling Kubernetes clusters.\",\n",
      "                    \"command\": \"kubectl get namespaces --context={context_name}\",\n",
      "                    \"url\": \"https://kubernetes.io/docs/reference/kubectl/\"\n",
      "                }\n",
      "            ]\n",
      "        },\n",
      "        {\n",
      "            \"name\": \"analyze-logs\",\n",
      "            \"description\": \"Analyze the logs of the affected pods and services to identify any error messages or anomalies that could indicate the cause of the incident.\",\n",
      "            \"success_criteria\": \"Logs are analyzed, and any relevant error messages or anomalies are documented for further investigation.\",\n",
      "            \"tools\": [\n",
      "                {\n",
      "                    \"name\": \"kubectl\",\n",
      "                    \"description\": \"A command-line tool for controlling Kubernetes clusters.\",\n",
      "                    \"command\": \"kubectl logs {pod_name} --namespace={namespace_name}\",\n",
      "                    \"url\": \"https://kubernetes.io/docs/reference/kubectl/\"\n",
      "                }\n",
      "            ]\n",
      "        },\n",
      "        {\n",
      "            \"name\": \"check-deployment-status\",\n",
      "            \"description\": \"Check the status of deployments in the affected namespaces to identify any that are not running or have failed.\",\n",
      "            \"success_criteria\": \"All deployments in the affected namespaces are checked, and their statuses are documented, identifying any that are not running or have failed.\",\n",
      "            \"tools\": [\n",
      "                {\n",
      "                    \"name\": \"kubectl\",\n",
      "                    \"description\": \"A command-line tool for controlling Kubernetes clusters.\",\n",
      "                    \"command\": \"kubectl get deployments --namespace={namespace_name}\",\n",
      "                    \"url\": \"https://kubernetes.io/docs/reference/kubectl/\"\n",
      "                }\n",
      "            ]\n",
      "        },\n",
      "        {\n",
      "            \"name\": \"identify-root-cause\",\n",
      "            \"description\": \"Based on the gathered information, identify the root cause of the incident and document it.\",\n",
      "            \"success_criteria\": \"Root cause of the incident is identified and documented, along with any contributing factors.\",\n",
      "            \"tools\": [\n",
      "                {\n",
      "                    \"name\": \"Documentation\",\n",
      "                    \"description\": \"A tool for documenting findings and root causes, such as Confluence or Google Docs.\",\n",
      "                    \"command\": \"N/A\",\n",
      "                    \"url\": \"N/A\"\n",
      "                }\n",
      "            ]\n",
      "        },\n",
      "        {\n",
      "            \"name\": \"implement-fix\",\n",
      "            \"description\": \"Implement the necessary fix to resolve the incident, which may involve redeploying services, scaling resources, or fixing configuration issues.\",\n",
      "            \"success_criteria\": \"The fix is implemented, and the affected services are restored to normal operation.\",\n",
      "            \"tools\": [\n",
      "                {\n",
      "                    \"name\": \"kubectl\",\n",
      "                    \"description\": \"A command-line tool for controlling Kubernetes clusters.\",\n",
      "                    \"command\": \"kubectl apply -f {deployment_file.yaml} --namespace={namespace_name}\",\n",
      "                    \"url\": \"https://kubernetes.io/docs/reference/kubectl/\"\n",
      "                }\n",
      "            ]\n",
      "        },\n",
      "        {\n",
      "            \"name\": \"verify-resolution\",\n",
      "            \"description\": \"Verify that the incident has been resolved by checking the status of the affected services and ensuring they are functioning as expected.\",\n",
      "            \"success_criteria\": \"All affected services are verified to be functioning normally, and the incident is marked as resolved in PagerDuty.\",\n",
      "            \"tools\": [\n",
      "                {\n",
      "                    \"name\": \"kubectl\",\n",
      "                    \"description\": \"A command-line tool for controlling Kubernetes clusters.\",\n",
      "                    \"command\": \"kubectl get pods --namespace={namespace_name}\",\n",
      "                    \"url\": \"https://kubernetes.io/docs/reference/kubectl/\"\n",
      "                }\n",
      "            ]\n",
      "        },\n",
      "        {\n",
      "            \"name\": \"document-incident\",\n",
      "            \"description\": \"Document the incident, including the timeline, root cause, and resolution steps taken, for future reference and learning.\",\n",
      "            \"success_criteria\": \"Incident is fully documented, and lessons learned are shared with the team to prevent similar incidents in the future.\",\n",
      "            \"tools\": [\n",
      "                {\n",
      "                    \"name\": \"Documentation\",\n",
      "                    \"description\": \"A tool for documenting incidents, such as Confluence or Google Docs.\",\n",
      "                    \"command\": \"N/A\",\n",
      "                    \"url\": \"N/A\"\n",
      "                }\n",
      "            ]\n",
      "        }\n",
      "    ],\n",
      "    \"Reasoning\": \"The plan is structured to follow a systematic approach to incident management, starting from acknowledging the incident to documenting the resolution. Each task is atomic and focuses on a specific aspect of the incident response process, ensuring clarity and thoroughness. The use of established tools like PagerDuty, Slack, and kubectl aligns with DevSecOps best practices, promoting collaboration, transparency, and effective resolution of incidents.\"\n",
      "}\n"
     ]
    }
   ],
   "source": [
    "import json\n",
    "plan = json.dumps(structured_plan_response.dict(), indent=4)\n",
    "print(plan)"
   ]
  },
  {
   "cell_type": "code",
   "execution_count": 102,
   "id": "d2c930fb",
   "metadata": {},
   "outputs": [],
   "source": [
    "function_system_prompt = \"\"\"You are an expert on OpenAI function calling and Python programming. \n",
    "\n",
    "You will create hypothetical functions that follow OpenAI's function calling schema to solve tasks. Each task must have a function. \n",
    "\n",
    "The function specification should match OpenAI's function calling schema. Example: \n",
    "\n",
    "\n",
    "    {\n",
    "        \"type\": \"function\",\n",
    "        \"function\": {\n",
    "            \"name\": \"get_delivery_date\",\n",
    "            \"description\": \"Get the delivery date for a customer's order. Call this whenever you need to know the delivery date, for example when a customer asks 'Where is my package'\",\n",
    "            \"parameters\": {\n",
    "                \"type\": \"object\",\n",
    "                \"properties\": {\n",
    "                    \"order_id\": {\n",
    "                        \"type\": \"string\",\n",
    "                        \"description\": \"The customer's order ID.\"\n",
    "                    }\n",
    "                },\n",
    "                \"required\": [\"order_id\"],\n",
    "                \"additionalProperties\": False\n",
    "            }\n",
    "        }\n",
    "    }\n",
    "\n",
    "\"\"\""
   ]
  },
  {
   "cell_type": "code",
   "execution_count": 107,
   "id": "25ae951e",
   "metadata": {},
   "outputs": [],
   "source": [
    "function_user_query = \"\"\"\n",
    "Based on the following Plan, create hypothetical functions that should be called to solve each task. \n",
    "\n",
    "Use a ReACT method when thinking about each task and creating the associated function.\n",
    "\n",
    "Do not add extra commentary before or after. \n",
    "\"\"\""
   ]
  },
  {
   "cell_type": "code",
   "execution_count": 108,
   "id": "8e07d528",
   "metadata": {},
   "outputs": [],
   "source": [
    "from langchain_core.prompts import ChatPromptTemplate\n",
    "\n",
    "function_template = ChatPromptTemplate.from_messages([\n",
    "    (\"system\", \"{function_system_prompt}\"),\n",
    "    (\"user\", \"{function_user_query}\"),\n",
    "    (\"user\", \"{plan}\")\n",
    "])\n"
   ]
  },
  {
   "cell_type": "code",
   "execution_count": 109,
   "id": "eeb6ab58",
   "metadata": {},
   "outputs": [
    {
     "name": "stderr",
     "output_type": "stream",
     "text": [
      "2024-09-10 19:41:55,744 - INFO - HTTP Request: POST https://api.openai.com/v1/chat/completions \"HTTP/1.1 200 OK\"\n"
     ]
    }
   ],
   "source": [
    "chain = function_template | openai_config.chat_model\n",
    "\n",
    "functions = chain.invoke({\"function_system_prompt\": function_system_prompt, \"function_user_query\": function_user_query, \"plan\": plan})"
   ]
  },
  {
   "cell_type": "code",
   "execution_count": 110,
   "id": "c32c730b",
   "metadata": {},
   "outputs": [
    {
     "name": "stdout",
     "output_type": "stream",
     "text": [
      "```json\n",
      "{\n",
      "    \"functions\": [\n",
      "        {\n",
      "            \"type\": \"function\",\n",
      "            \"function\": {\n",
      "                \"name\": \"acknowledge_incident\",\n",
      "                \"description\": \"Acknowledge the incident in PagerDuty to prevent further notifications and inform the team that the issue is being addressed.\",\n",
      "                \"parameters\": {\n",
      "                    \"type\": \"object\",\n",
      "                    \"properties\": {\n",
      "                        \"incident_id\": {\n",
      "                            \"type\": \"string\",\n",
      "                            \"description\": \"The ID of the incident to acknowledge.\"\n",
      "                        },\n",
      "                        \"api_token\": {\n",
      "                            \"type\": \"string\",\n",
      "                            \"description\": \"The API token for authenticating with PagerDuty.\"\n",
      "                        }\n",
      "                    },\n",
      "                    \"required\": [\"incident_id\", \"api_token\"],\n",
      "                    \"additionalProperties\": false\n",
      "                }\n",
      "            }\n",
      "        },\n",
      "        {\n",
      "            \"type\": \"function\",\n",
      "            \"function\": {\n",
      "                \"name\": \"gather_incident_details\",\n",
      "                \"description\": \"Collect all relevant details about the incident from Slack and PagerDuty.\",\n",
      "                \"parameters\": {\n",
      "                    \"type\": \"object\",\n",
      "                    \"properties\": {\n",
      "                        \"incident_id\": {\n",
      "                            \"type\": \"string\",\n",
      "                            \"description\": \"The ID of the incident.\"\n",
      "                        },\n",
      "                        \"slack_channel\": {\n",
      "                            \"type\": \"string\",\n",
      "                            \"description\": \"The Slack channel to gather details from.\"\n",
      "                        }\n",
      "                    },\n",
      "                    \"required\": [\"incident_id\", \"slack_channel\"],\n",
      "                    \"additionalProperties\": false\n",
      "                }\n",
      "            }\n",
      "        },\n",
      "        {\n",
      "            \"type\": \"function\",\n",
      "            \"function\": {\n",
      "                \"name\": \"check_cluster_status\",\n",
      "                \"description\": \"Check the status of all Kubernetes clusters to identify any that are down or experiencing issues.\",\n",
      "                \"parameters\": {\n",
      "                    \"type\": \"object\",\n",
      "                    \"properties\": {\n",
      "                        \"context_name\": {\n",
      "                            \"type\": \"string\",\n",
      "                            \"description\": \"The context name for the Kubernetes cluster.\"\n",
      "                        }\n",
      "                    },\n",
      "                    \"required\": [\"context_name\"],\n",
      "                    \"additionalProperties\": false\n",
      "                }\n",
      "            }\n",
      "        },\n",
      "        {\n",
      "            \"type\": \"function\",\n",
      "            \"function\": {\n",
      "                \"name\": \"check_namespace_status\",\n",
      "                \"description\": \"Check the status of all namespaces in the affected clusters.\",\n",
      "                \"parameters\": {\n",
      "                    \"type\": \"object\",\n",
      "                    \"properties\": {\n",
      "                        \"context_name\": {\n",
      "                            \"type\": \"string\",\n",
      "                            \"description\": \"The context name for the Kubernetes cluster.\"\n",
      "                        }\n",
      "                    },\n",
      "                    \"required\": [\"context_name\"],\n",
      "                    \"additionalProperties\": false\n",
      "                }\n",
      "            }\n",
      "        },\n",
      "        {\n",
      "            \"type\": \"function\",\n",
      "            \"function\": {\n",
      "                \"name\": \"analyze_logs\",\n",
      "                \"description\": \"Analyze the logs of the affected pods and services to identify any error messages or anomalies.\",\n",
      "                \"parameters\": {\n",
      "                    \"type\": \"object\",\n",
      "                    \"properties\": {\n",
      "                        \"pod_name\": {\n",
      "                            \"type\": \"string\",\n",
      "                            \"description\": \"The name of the pod to analyze.\"\n",
      "                        },\n",
      "                        \"namespace_name\": {\n",
      "                            \"type\": \"string\",\n",
      "                            \"description\": \"The namespace of the pod.\"\n",
      "                        }\n",
      "                    },\n",
      "                    \"required\": [\"pod_name\", \"namespace_name\"],\n",
      "                    \"additionalProperties\": false\n",
      "                }\n",
      "            }\n",
      "        },\n",
      "        {\n",
      "            \"type\": \"function\",\n",
      "            \"function\": {\n",
      "                \"name\": \"check_deployment_status\",\n",
      "                \"description\": \"Check the status of deployments in the affected namespaces.\",\n",
      "                \"parameters\": {\n",
      "                    \"type\": \"object\",\n",
      "                    \"properties\": {\n",
      "                        \"namespace_name\": {\n",
      "                            \"type\": \"string\",\n",
      "                            \"description\": \"The namespace to check deployments in.\"\n",
      "                        }\n",
      "                    },\n",
      "                    \"required\": [\"namespace_name\"],\n",
      "                    \"additionalProperties\": false\n",
      "                }\n",
      "            }\n",
      "        },\n",
      "        {\n",
      "            \"type\": \"function\",\n",
      "            \"function\": {\n",
      "                \"name\": \"identify_root_cause\",\n",
      "                \"description\": \"Identify the root cause of the incident based on gathered information.\",\n",
      "                \"parameters\": {\n",
      "                    \"type\": \"object\",\n",
      "                    \"properties\": {\n",
      "                        \"incident_id\": {\n",
      "                            \"type\": \"string\",\n",
      "                            \"description\": \"The ID of the incident.\"\n",
      "                        },\n",
      "                        \"details\": {\n",
      "                            \"type\": \"string\",\n",
      "                            \"description\": \"The details gathered about the incident.\"\n",
      "                        }\n",
      "                    },\n",
      "                    \"required\": [\"incident_id\", \"details\"],\n",
      "                    \"additionalProperties\": false\n",
      "                }\n",
      "            }\n",
      "        },\n",
      "        {\n",
      "            \"type\": \"function\",\n",
      "            \"function\": {\n",
      "                \"name\": \"implement_fix\",\n",
      "                \"description\": \"Implement the necessary fix to resolve the incident.\",\n",
      "                \"parameters\": {\n",
      "                    \"type\": \"object\",\n",
      "                    \"properties\": {\n",
      "                        \"deployment_file\": {\n",
      "                            \"type\": \"string\",\n",
      "                            \"description\": \"The YAML file for the deployment.\"\n",
      "                        },\n",
      "                        \"namespace_name\": {\n",
      "                            \"type\": \"string\",\n",
      "                            \"description\": \"The namespace where the fix will be applied.\"\n",
      "                        }\n",
      "                    },\n",
      "                    \"required\": [\"deployment_file\", \"namespace_name\"],\n",
      "                    \"additionalProperties\": false\n",
      "                }\n",
      "            }\n",
      "        },\n",
      "        {\n",
      "            \"type\": \"function\",\n",
      "            \"function\": {\n",
      "                \"name\": \"verify_resolution\",\n",
      "                \"description\": \"Verify that the incident has been resolved by checking the status of the affected services.\",\n",
      "                \"parameters\": {\n",
      "                    \"type\": \"object\",\n",
      "                    \"properties\": {\n",
      "                        \"namespace_name\": {\n",
      "                            \"type\": \"string\",\n",
      "                            \"description\": \"The namespace to verify services in.\"\n",
      "                        }\n",
      "                    },\n",
      "                    \"required\": [\"namespace_name\"],\n",
      "                    \"additionalProperties\": false\n",
      "                }\n",
      "            }\n",
      "        },\n",
      "        {\n",
      "            \"type\": \"function\",\n",
      "            \"function\": {\n",
      "                \"name\": \"document_incident\",\n",
      "                \"description\": \"Document the incident, including the timeline, root cause, and resolution steps taken.\",\n",
      "                \"parameters\": {\n",
      "                    \"type\": \"object\",\n",
      "                    \"properties\": {\n",
      "                        \"incident_id\": {\n",
      "                            \"type\": \"string\",\n",
      "                            \"description\": \"The ID of the incident.\"\n",
      "                        },\n",
      "                        \"documentation_tool\": {\n",
      "                            \"type\": \"string\",\n",
      "                            \"description\": \"The tool used for documentation.\"\n",
      "                        },\n",
      "                        \"details\": {\n",
      "                            \"type\": \"string\",\n",
      "                            \"description\": \"The details to document.\"\n",
      "                        }\n",
      "                    },\n",
      "                    \"required\": [\"incident_id\", \"documentation_tool\", \"details\"],\n",
      "                    \"additionalProperties\": false\n",
      "                }\n",
      "            }\n",
      "        }\n",
      "    ]\n",
      "}\n",
      "```\n"
     ]
    }
   ],
   "source": [
    "print(functions.content)"
   ]
  },
  {
   "cell_type": "markdown",
   "id": "798fe3ec-4a28-4f2f-ab2e-0b94f2dbc104",
   "metadata": {},
   "source": [
    "# Tool Calling"
   ]
  },
  {
   "cell_type": "markdown",
   "id": "57f4b911-449f-4a46-a426-af3d8af4c4ba",
   "metadata": {},
   "source": [
    "## Define Toolkit"
   ]
  },
  {
   "cell_type": "code",
   "execution_count": 70,
   "id": "051e13b9-4ca1-4bb3-bbae-460410e5845c",
   "metadata": {},
   "outputs": [
    {
     "ename": "ModuleNotFoundError",
     "evalue": "No module named 'incident'",
     "output_type": "error",
     "traceback": [
      "\u001b[1;31m---------------------------------------------------------------------------\u001b[0m",
      "\u001b[1;31mModuleNotFoundError\u001b[0m                       Traceback (most recent call last)",
      "Cell \u001b[1;32mIn[70], line 3\u001b[0m\n\u001b[0;32m      1\u001b[0m \u001b[38;5;66;03m# https://python.langchain.com/v0.2/docs/concepts/#toolkits\u001b[39;00m\n\u001b[0;32m      2\u001b[0m \u001b[38;5;66;03m# https://python.langchain.com/v0.2/docs/how_to/custom_tools/\u001b[39;00m\n\u001b[1;32m----> 3\u001b[0m \u001b[38;5;28;01mfrom\u001b[39;00m \u001b[38;5;21;01mincident\u001b[39;00m \u001b[38;5;28;01mimport\u001b[39;00m Incident\n\u001b[0;32m      4\u001b[0m incident \u001b[38;5;241m=\u001b[39m Incident()\n\u001b[0;32m      5\u001b[0m \u001b[38;5;66;03m# Create a toolkit with the Incident class\u001b[39;00m\n",
      "\u001b[1;31mModuleNotFoundError\u001b[0m: No module named 'incident'"
     ]
    }
   ],
   "source": [
    "# https://python.langchain.com/v0.2/docs/concepts/#toolkits\n",
    "# https://python.langchain.com/v0.2/docs/how_to/custom_tools/\n",
    "from incident import Incident\n",
    "incident = Incident()\n",
    "# Create a toolkit with the Incident class\n",
    "incident_toolkit = incident.get_tools()"
   ]
  },
  {
   "cell_type": "code",
   "execution_count": 21,
   "id": "2139acbb-9bdd-4617-af55-72f0527aac6d",
   "metadata": {},
   "outputs": [],
   "source": [
    "for tool in incident_toolkit:\n",
    "    # Let's inspect some of the attributes associated with the tool.\n",
    "    logger.debug(tool.name)\n",
    "    logger.debug(tool.description)\n",
    "    logger.debug(tool.args)\n",
    "    logger.debug(tool.return_direct)"
   ]
  },
  {
   "cell_type": "markdown",
   "id": "664aeee9-a8ae-487c-a358-7ed346ee68cf",
   "metadata": {},
   "source": [
    "## Tool binding"
   ]
  },
  {
   "cell_type": "code",
   "execution_count": 22,
   "id": "7491dc1b-8667-4869-8077-8d5ec2272c52",
   "metadata": {},
   "outputs": [],
   "source": [
    "import json\n",
    "chat_model_tools = openai_config.chat_model.bind_tools(incident_toolkit)\n",
    "# chat_model_tools.kwargs.get(\"tools\")[0].get(\"function\")[\"strict\"] = True\n",
    "# chat_model_tools.kwargs.get(\"tools\")[0].get(\"function\").get(\"parameters\")[\"additionalProperties\"] = False\n",
    "# chat_model_tools.kwargs.get(\"tools\")[1].get(\"function\")[\"strict\"] = True\n",
    "# chat_model_tools.kwargs.get(\"tools\")[1].get(\"function\").get(\"parameters\")[\"additionalProperties\"] = False\n",
    "# chat_model_tools.kwargs.get(\"tools\")[2].get(\"function\")[\"strict\"] = True\n",
    "# chat_model_tools.kwargs.get(\"tools\")[2].get(\"function\").get(\"parameters\")[\"additionalProperties\"] = False\n",
    "# chat_model_tools.kwargs.get(\"tools\")[0].get(\"function\").get(\"strict\")\n",
    "# chat_model_tools.kwargs.get(\"tools\")[1].get(\"function\")\n",
    "# chat_model_tools.kwargs.get(\"tools\")[2].get(\"function\")\n",
    "# json_llm = chat_model_tools.bind(response_format={\"type\": \"json_object\"})\n",
    "# logging.info(json.dumps(chat_model_tools.kwargs.get(\"tools\")[0].get(\"function\"), indent=4))"
   ]
  },
  {
   "cell_type": "code",
   "execution_count": 41,
   "id": "2eebc242-96a9-4ac3-bff2-8eb7cf6092c7",
   "metadata": {},
   "outputs": [],
   "source": [
    "import json\n",
    "\n",
    "tool_calling_query = f\"\"\"Can you help Acknowledge the incident 123 in PagerDuty to prevent further \n",
    "notifications and inform the team that the issue is being addressed \\n\"\"\""
   ]
  },
  {
   "cell_type": "markdown",
   "id": "747c2117-ec95-40d6-8afd-21e2c808083d",
   "metadata": {},
   "source": [
    "## Invoke LLM"
   ]
  },
  {
   "cell_type": "code",
   "execution_count": 42,
   "id": "f32b1ca4-4f5f-4380-956e-2f19322e0d6b",
   "metadata": {},
   "outputs": [
    {
     "name": "stderr",
     "output_type": "stream",
     "text": [
      "2024-08-29 00:08:53,419 - INFO - HTTP Request: POST https://api.openai.com/v1/chat/completions \"HTTP/1.1 200 OK\"\n"
     ]
    }
   ],
   "source": [
    "tool_response = chat_model_tools.invoke(tool_calling_query)"
   ]
  },
  {
   "cell_type": "code",
   "execution_count": 43,
   "id": "d91684de-8931-48e1-95cd-8526b3b2eb2a",
   "metadata": {},
   "outputs": [
    {
     "name": "stdout",
     "output_type": "stream",
     "text": [
      "[\n",
      "    {\n",
      "        \"name\": \"read_incident\",\n",
      "        \"args\": {\n",
      "            \"incident_id\": \"123\"\n",
      "        },\n",
      "        \"id\": \"call_Fx451JxbF7jW3lhNHtxcrDUL\",\n",
      "        \"type\": \"tool_call\"\n",
      "    }\n",
      "]\n"
     ]
    }
   ],
   "source": [
    "print(json.dumps(tool_response.tool_calls, indent=4))"
   ]
  },
  {
   "cell_type": "markdown",
   "id": "f2cc54a5-03a9-47ac-ac1a-054f4fa743f3",
   "metadata": {},
   "source": [
    "# Tool Calling and Structured Output"
   ]
  },
  {
   "cell_type": "code",
   "execution_count": 179,
   "id": "aece67f7-a7e4-40d1-a298-becc5a6a1805",
   "metadata": {},
   "outputs": [],
   "source": [
    "structured_tools_system_query = \"\"\"You are a DevSecOs expert. You are thorough and leave nothing to chance.  \n",
    "\"\"\""
   ]
  },
  {
   "cell_type": "code",
   "execution_count": 180,
   "id": "1e94ca82-c1af-48f0-8512-7bd92464b7e0",
   "metadata": {},
   "outputs": [],
   "source": [
    "structured_tools_user_query = \"\"\"\n",
    "Create an end to end plan to debug Kubernetes DevOps Incidents on a  \n",
    "environment with multiple clusters and namespaces. The plan must follows established \n",
    "DevSecOps best practices.\n",
    "\n",
    "Always check if any tool specified in the message can be used in a task. \n",
    "\n",
    "The incident starts with a notification in a Slack room with the PagerDuty incident ID \n",
    "\"\"\""
   ]
  },
  {
   "cell_type": "code",
   "execution_count": 205,
   "id": "72d755c4-7d87-4b70-b3db-7d173aab9265",
   "metadata": {},
   "outputs": [],
   "source": [
    "from langchain_core.prompts import ChatPromptTemplate\n",
    "\n",
    "structured_template = ChatPromptTemplate.from_messages([\n",
    "    (\"system\", \"{system_prompt}\"),\n",
    "    (\"user\", \"{input}\")\n",
    "])\n",
    "structured_tools_prompt = structured_template.invoke({\"system_prompt\": structured_tools_system_query, \"input\": structured_tools_user_query})"
   ]
  },
  {
   "cell_type": "code",
   "execution_count": 215,
   "id": "72ec7a68-8c9c-45a4-bb4c-3194554690fc",
   "metadata": {},
   "outputs": [],
   "source": [
    "# lm.bind_tools([WeatherTool], response_format=Plan, strict=True)\n",
    "\n",
    "chat_model_tools = openai_config.chat_model.bind_tools(incident_toolkit)\n",
    "# structured_llm_tools = chat_model_tools.with_structured_output(Plan, method=\"json_schema\", include_raw=True)"
   ]
  },
  {
   "cell_type": "code",
   "execution_count": 219,
   "id": "bbfeb223-da51-4c7e-ae7f-f748a6a2a115",
   "metadata": {},
   "outputs": [],
   "source": [
    "structured_llm_tools = chat_model_tools.with_structured_output(Plan, method=\"json_schema\")"
   ]
  },
  {
   "cell_type": "code",
   "execution_count": 220,
   "id": "e706cc05-c92d-425d-8d98-82a4b1f3e9fc",
   "metadata": {},
   "outputs": [
    {
     "name": "stderr",
     "output_type": "stream",
     "text": [
      "2024-08-28 13:34:40,173 - INFO - HTTP Request: POST https://api.openai.com/v1/chat/completions \"HTTP/1.1 200 OK\"\n"
     ]
    }
   ],
   "source": [
    "structured_plan_and_tools_response = structured_llm_tools.invoke(structured_tools_prompt)"
   ]
  },
  {
   "cell_type": "code",
   "execution_count": 221,
   "id": "a8637a68-293f-4cac-b7e9-fc8399bf47c8",
   "metadata": {},
   "outputs": [
    {
     "name": "stdout",
     "output_type": "stream",
     "text": [
      "{\n",
      "    \"tasks\": [\n",
      "        {\n",
      "            \"name\": \"initialize-incident-response\",\n",
      "            \"description\": \"Initiate the incident response process by gathering necessary information about the incident from Slack and PagerDuty.\",\n",
      "            \"success_criteria\": \"Incident response team is assembled, and all relevant information regarding the incident is collected from Slack and PagerDuty, including the incident ID, timestamps, and any reported issues.\",\n",
      "            \"tools\": [\n",
      "                {\n",
      "                    \"name\": \"Slack\",\n",
      "                    \"description\": \"Slack is a messaging platform used for team collaboration.\",\n",
      "                    \"command\": null,\n",
      "                    \"url\": \"https://slack.com/\"\n",
      "                },\n",
      "                {\n",
      "                    \"name\": \"PagerDuty\",\n",
      "                    \"description\": \"A tool for incident management and alerting.\",\n",
      "                    \"command\": null,\n",
      "                    \"url\": \"https://www.pagerduty.com/\"\n",
      "                }\n",
      "            ]\n",
      "        },\n",
      "        {\n",
      "            \"name\": \"check-cluster-status\",\n",
      "            \"description\": \"Check the health and status of all Kubernetes clusters in the environment to identify any potential issues.\",\n",
      "            \"success_criteria\": \"All clusters' statuses are reviewed, and any clusters that are not in a healthy state are documented for further investigation.\",\n",
      "            \"tools\": [\n",
      "                {\n",
      "                    \"name\": \"kubectl\",\n",
      "                    \"description\": \"A command-line tool for controlling Kubernetes clusters.\",\n",
      "                    \"command\": \"kubectl get clusters\",\n",
      "                    \"url\": \"https://kubernetes.io/docs/reference/kubectl/\"\n",
      "                }\n",
      "            ]\n",
      "        },\n",
      "        {\n",
      "            \"name\": \"gather-logs-from-namespaces\",\n",
      "            \"description\": \"Collect logs from all relevant namespaces in the identified clusters to find anomalies or error messages related to the incident.\",\n",
      "            \"success_criteria\": \"Logs are collected from all relevant namespaces, and any errors or warnings are identified and documented for analysis.\",\n",
      "            \"tools\": [\n",
      "                {\n",
      "                    \"name\": \"kubectl\",\n",
      "                    \"description\": \"A command-line tool for controlling Kubernetes clusters.\",\n",
      "                    \"command\": \"kubectl logs -n <namespace> --all-containers=true\",\n",
      "                    \"url\": \"https://kubernetes.io/docs/reference/kubectl/\"\n",
      "                }\n",
      "            ]\n",
      "        },\n",
      "        {\n",
      "            \"name\": \"analyze-logs\",\n",
      "            \"description\": \"Analyze the collected logs for anomalies or patterns that might indicate the root cause of the incident.\",\n",
      "            \"success_criteria\": \"Potential root causes are identified based on log analysis, and a summary of findings is documented for further investigation.\",\n",
      "            \"tools\": [\n",
      "                {\n",
      "                    \"name\": \"grep\",\n",
      "                    \"description\": \"A command-line utility for searching plain-text data for lines that match a regular expression.\",\n",
      "                    \"command\": \"grep -i 'error' /path/to/logs\",\n",
      "                    \"url\": \"https://www.gnu.org/software/grep/\"\n",
      "                }\n",
      "            ]\n",
      "        },\n",
      "        {\n",
      "            \"name\": \"check-resource-utilization\",\n",
      "            \"description\": \"Evaluate resource utilization across the clusters to identify any resource constraints or bottlenecks contributing to the incident.\",\n",
      "            \"success_criteria\": \"Resource utilization metrics are gathered, and any resources that are over-utilized or under-utilized are identified and documented.\",\n",
      "            \"tools\": [\n",
      "                {\n",
      "                    \"name\": \"kubectl\",\n",
      "                    \"description\": \"A command-line tool for controlling Kubernetes clusters.\",\n",
      "                    \"command\": \"kubectl top pods --namespace <namespace>\",\n",
      "                    \"url\": \"https://kubernetes.io/docs/reference/kubectl/\"\n",
      "                }\n",
      "            ]\n",
      "        },\n",
      "        {\n",
      "            \"name\": \"communicate-findings\",\n",
      "            \"description\": \"Prepare a report summarizing the findings from the logs and resource utilization analysis, and communicate it to the incident response team and stakeholders.\",\n",
      "            \"success_criteria\": \"A clear and concise report is created and shared with all relevant stakeholders, detailing the findings and next steps for resolution.\",\n",
      "            \"tools\": [\n",
      "                {\n",
      "                    \"name\": \"Slack\",\n",
      "                    \"description\": \"Slack is a messaging platform used for team collaboration.\",\n",
      "                    \"command\": \"curl -X POST -H 'Content-type: application/json' --data '{\\\"text\\\":\\\"<report>\\\"}' https://slack.com/api/chat.postMessage\",\n",
      "                    \"url\": \"https://slack.com/\"\n",
      "                }\n",
      "            ]\n",
      "        }\n",
      "    ],\n",
      "    \"Reasoning\": \"This plan outlines a structured approach to incident response for Kubernetes environments, focusing on gathering and analyzing information systematically. Starting with the notification from Slack and PagerDuty, the plan ensures that all necessary tools are identified and used effectively. Each task is atomic and follows a logical sequence to identify, analyze, and communicate findings regarding the incident.\"\n",
      "}\n"
     ]
    }
   ],
   "source": [
    "print(json.dumps(structured_plan_and_tools_response.dict(), indent=4))"
   ]
  },
  {
   "cell_type": "code",
   "execution_count": null,
   "id": "6e2ee703-3602-4153-8d4d-5797bf092b8e",
   "metadata": {},
   "outputs": [],
   "source": []
  }
 ],
 "metadata": {
  "kernelspec": {
   "display_name": "Python 3 (ipykernel)",
   "language": "python",
   "name": "python3"
  },
  "language_info": {
   "codemirror_mode": {
    "name": "ipython",
    "version": 3
   },
   "file_extension": ".py",
   "mimetype": "text/x-python",
   "name": "python",
   "nbconvert_exporter": "python",
   "pygments_lexer": "ipython3",
   "version": "3.11.9"
  }
 },
 "nbformat": 4,
 "nbformat_minor": 5
}
